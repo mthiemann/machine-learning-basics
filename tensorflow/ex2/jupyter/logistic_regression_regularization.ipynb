{
 "cells": [
  {
   "cell_type": "markdown",
   "metadata": {},
   "source": [
    "# Logistic Regression with Regularization"
   ]
  },
  {
   "cell_type": "code",
   "execution_count": 1,
   "metadata": {
    "collapsed": false
   },
   "outputs": [],
   "source": [
    "import helpers as hlp\n",
    "import matplotlib.pyplot as plt\n",
    "import numpy as np\n",
    "import tensorflow as tf"
   ]
  },
  {
   "cell_type": "markdown",
   "metadata": {},
   "source": [
    "## Configuration"
   ]
  },
  {
   "cell_type": "code",
   "execution_count": 2,
   "metadata": {
    "collapsed": true
   },
   "outputs": [],
   "source": [
    "# Configuration Params\n",
    "learning_rate = 0.001\n",
    "epochs = 50000\n",
    "display_step = 100\n",
    "\n",
    "degree = 6  # feature mapping degree\n",
    "lmbda = 1000  # regularization parameter"
   ]
  },
  {
   "cell_type": "markdown",
   "metadata": {},
   "source": [
    "## Import Data"
   ]
  },
  {
   "cell_type": "code",
   "execution_count": 3,
   "metadata": {
    "collapsed": false
   },
   "outputs": [],
   "source": [
    "# Import data\n",
    "train_data = np.loadtxt(\n",
    "    \"../../../data/ex2/ex2data2.txt\", dtype=\"float64\", delimiter=\",\")\n",
    "\n",
    "train_x_unbiased = np.delete(train_data, -1, axis=1)\n",
    "train_x = hlp.map_features(\n",
    "    train_x_unbiased[:, 0], train_x_unbiased[:, 1], degree=degree)\n",
    "\n",
    "train_y = np.delete(train_data, np.s_[:-1], axis=1)"
   ]
  },
  {
   "cell_type": "markdown",
   "metadata": {},
   "source": [
    "## Visualize Data"
   ]
  },
  {
   "cell_type": "code",
   "execution_count": 4,
   "metadata": {
    "collapsed": false,
    "scrolled": true
   },
   "outputs": [
    {
     "data": {
      "image/png": "[encoded data removed]",
      "text/plain": [
       "<matplotlib.figure.Figure at 0x10f6698d0>"
      ]
     },
     "metadata": {},
     "output_type": "display_data"
    }
   ],
   "source": [
    "# Visualize Data\n",
    "labels = {\n",
    "    \"figure_label\": \"Microchip Test\",\n",
    "    \"x_label\": \"Microchip Test 1\",\n",
    "    \"y_label\": \"Microchip Test 2\",\n",
    "}\n",
    "\n",
    "hlp.plot_classified_data(train_x, train_y, **labels)"
   ]
  },
  {
   "cell_type": "markdown",
   "metadata": {},
   "source": [
    "## Define Model"
   ]
  },
  {
   "cell_type": "code",
   "execution_count": 5,
   "metadata": {
    "collapsed": false
   },
   "outputs": [],
   "source": [
    "# Parameters\n",
    "X = tf.placeholder(tf.float64, name=\"x\")\n",
    "Y = tf.placeholder(tf.float64, name=\"y\")\n",
    "theta = tf.Variable(\n",
    "    tf.zeros(\n",
    "        (train_x.shape[1], 1), dtype=tf.float64), name=\"theta\")\n",
    "theta_reg = tf.placeholder(tf.float64, name=\"theta_reg\")\n",
    "\n",
    "m = train_x.shape[0]\n",
    "\n",
    "# Model\n",
    "hypothesis = tf.sigmoid(tf.matmul(X, theta))\n",
    "\n",
    "# Cost function\n",
    "cost = tf.reduce_sum(1 / m *\n",
    "                     (-Y * tf.log(hypothesis) -\n",
    "                      (1 - Y) * tf.log(1 - hypothesis))) + lmbda / (\n",
    "                          2 * m) * tf.reduce_sum(tf.pow(theta_reg, theta_reg))\n",
    "\n",
    "# Optimizer\n",
    "optimizer = tf.train.GradientDescentOptimizer(learning_rate).minimize(cost)"
   ]
  },
  {
   "cell_type": "markdown",
   "metadata": {},
   "source": [
    "## Initialization"
   ]
  },
  {
   "cell_type": "code",
   "execution_count": 6,
   "metadata": {
    "collapsed": false
   },
   "outputs": [],
   "source": [
    "# Initialize Session\n",
    "sess = tf.InteractiveSession()\n",
    "tf.global_variables_initializer().run()\n",
    "epoch = 0\n",
    "\n",
    "file_writer = tf.summary.FileWriter(\"logs/reg/run1\", sess.graph)"
   ]
  },
  {
   "cell_type": "markdown",
   "metadata": {},
   "source": [
    "## Run Model"
   ]
  },
  {
   "cell_type": "code",
   "execution_count": 7,
   "metadata": {
    "collapsed": false
   },
   "outputs": [],
   "source": [
    "# Run Model\n",
    "for epoch in range(epochs):\n",
    "    th_reg = theta.eval()[1:]\n",
    "    sess.run(optimizer, feed_dict={X: train_x, Y: train_y, theta_reg: th_reg})\n",
    "\n",
    "    # Print adaption progress\n",
    "    if epoch % display_step == 0:\n",
    "        predictions = np.round(hypothesis.eval(feed_dict={X: train_x}))\n",
    "        accuracy = hlp.get_accuracy(predictions, train_y)"
   ]
  },
  {
   "cell_type": "markdown",
   "metadata": {},
   "source": [
    "## Results"
   ]
  },
  {
   "cell_type": "code",
   "execution_count": 8,
   "metadata": {
    "collapsed": false
   },
   "outputs": [
    {
     "name": "stdout",
     "output_type": "stream",
     "text": [
      "Optimized Weights \n",
      "[[  8.45388093e-01]\n",
      " [  3.03653654e-01]\n",
      " [  8.10667501e-01]\n",
      " [ -1.37995246e+00]\n",
      " [ -4.73503164e-01]\n",
      " [ -7.71688282e-01]\n",
      " [ -3.93057902e-02]\n",
      " [ -2.09925289e-01]\n",
      " [ -2.09569356e-01]\n",
      " [ -2.04606642e-01]\n",
      " [ -1.07238150e+00]\n",
      " [ -4.86305709e-02]\n",
      " [ -3.91402451e-01]\n",
      " [ -1.26667411e-01]\n",
      " [ -8.60193558e-01]\n",
      " [ -2.66511270e-01]\n",
      " [ -1.35792011e-01]\n",
      " [ -5.60339031e-02]\n",
      " [ -1.71390274e-01]\n",
      " [ -1.55952692e-01]\n",
      " [ -5.01793827e-01]\n",
      " [ -8.02218461e-01]\n",
      " [ -4.44834226e-03]\n",
      " [ -1.96750327e-01]\n",
      " [ -4.62913828e-04]\n",
      " [ -2.15522237e-01]\n",
      " [ -5.87175804e-02]\n",
      " [ -8.13365688e-01]]\n",
      "\n",
      "Accuracy: 82.20338983050848\n",
      "Cost: nan\n",
      "Iterations: 49999\n"
     ]
    },
    {
     "data": {
      "image/png": "[encoded data removed]",
      "text/plain": [
       "<matplotlib.figure.Figure at 0x10f6e7a90>"
      ]
     },
     "metadata": {},
     "output_type": "display_data"
    }
   ],
   "source": [
    "# Results\n",
    "t = theta.eval()\n",
    "print(\"Optimized Weights \\n\" + str(t) + \"\\n\")\n",
    "print(\"Accuracy: \" + str(\n",
    "    hlp.get_accuracy(\n",
    "        np.round(hypothesis.eval(feed_dict={X: train_x})), train_y)))\n",
    "print(\"Cost: \" + str(\n",
    "    cost.eval(feed_dict={X: train_x,\n",
    "                         Y: train_y,\n",
    "                         theta_reg: th_reg})))\n",
    "print(\"Iterations: \" + str(epoch))\n",
    "\n",
    "# Decision Boundary\n",
    "hlp.plot_decision_boundary(train_x, train_y, t, **labels)"
   ]
  },
  {
   "cell_type": "markdown",
   "metadata": {},
   "source": [
    "## Close Session"
   ]
  },
  {
   "cell_type": "code",
   "execution_count": 9,
   "metadata": {
    "collapsed": true
   },
   "outputs": [],
   "source": [
    "sess.close()"
   ]
  }
 ],
 "metadata": {
  "anaconda-cloud": {},
  "kernelspec": {
   "display_name": "Python (Tensorflow)",
   "language": "python",
   "name": "tensorflow"
  },
  "language_info": {
   "codemirror_mode": {
    "name": "ipython",
    "version": 3
   },
   "file_extension": ".py",
   "mimetype": "text/x-python",
   "name": "python",
   "nbconvert_exporter": "python",
   "pygments_lexer": "ipython3",
   "version": "3.5.2"
  }
 },
 "nbformat": 4,
 "nbformat_minor": 1
}
